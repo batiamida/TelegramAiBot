{
 "cells": [
  {
   "cell_type": "code",
   "execution_count": 1,
   "metadata": {
    "colab": {
     "base_uri": "https://localhost:8080/"
    },
    "executionInfo": {
     "elapsed": 2451,
     "status": "ok",
     "timestamp": 1671393654213,
     "user": {
      "displayName": "Eugene Tomashy",
      "userId": "13407694259505507430"
     },
     "user_tz": -120
    },
    "id": "60SVxjjcZ4hh",
    "outputId": "9ef6ed1d-48ab-4718-c89c-dca6080bc5ce"
   },
   "outputs": [
    {
     "name": "stderr",
     "output_type": "stream",
     "text": [
      "[nltk_data] Downloading package punkt to /root/nltk_data...\n",
      "[nltk_data]   Unzipping tokenizers/punkt.zip.\n"
     ]
    }
   ],
   "source": [
    "import numpy as np\n",
    "import pandas as pd \n",
    "import nltk\n",
    "nltk.download('punkt')\n",
    "from nltk.tokenize import word_tokenize\n",
    "from sklearn.linear_model import LogisticRegression\n",
    "from sklearn.svm import SVC\n",
    "from nltk.stem.porter import PorterStemmer\n",
    "import re\n",
    "from sklearn.feature_extraction.text import CountVectorizer \n",
    "from sklearn.model_selection import train_test_split"
   ]
  },
  {
   "cell_type": "code",
   "execution_count": 2,
   "metadata": {
    "executionInfo": {
     "elapsed": 9,
     "status": "ok",
     "timestamp": 1671393654214,
     "user": {
      "displayName": "Eugene Tomashy",
      "userId": "13407694259505507430"
     },
     "user_tz": -120
    },
    "id": "Gx5FqFOYzJp2"
   },
   "outputs": [],
   "source": [
    "class UkrainianStemmer():\n",
    "    def __init__(self, word):\n",
    "        self.word = word\n",
    "        self.vowel = r'аеиоуюяіїє'  # http://uk.wikipedia.org/wiki/Голосний_звук\n",
    "        self.perfectiveground = r'(ив|ивши|ившись|ыв|ывши|ывшись((?<=[ая])(в|вши|вшись)))$'\n",
    "        # http://uk.wikipedia.org/wiki/Рефлексивне_дієслово\n",
    "        self.reflexive = r'(с[яьи])$'\n",
    "        # http://uk.wikipedia.org/wiki/Прикметник + http://wapedia.mobi/uk/Прикметник\n",
    "        self.adjective = r'(ими|ій|ий|а|е|ова|ове|ів|є|їй|єє|еє|я|ім|ем|им|ім|их|іх|ою|йми|іми|у|ю|ого|ому|ої)$'\n",
    "        # http://uk.wikipedia.org/wiki/Дієприкметник\n",
    "        self.participle = r'(ий|ого|ому|им|ім|а|ій|у|ою|ій|і|их|йми|их)$'\n",
    "        # http://uk.wikipedia.org/wiki/Дієслово\n",
    "        self.verb = r'(сь|ся|ив|ать|ять|у|ю|ав|али|учи|ячи|вши|ши|е|ме|ати|яти|є)$'\n",
    "        # http://uk.wikipedia.org/wiki/Іменник\n",
    "        self.noun = r'(а|ев|ов|е|ями|ами|еи|и|ей|ой|ий|й|иям|ям|ием|ем|ам|ом|о|у|ах|иях|ях|ы|ь|ию|ью|ю|ия|ья|я|і|ові|ї|ею|єю|ою|є|еві|ем|єм|ів|їв|ю)$'\n",
    "        self.rvre = r'[аеиоуюяіїє]'\n",
    "        self.derivational = r'[^аеиоуюяіїє][аеиоуюяіїє]+[^аеиоуюяіїє]+[аеиоуюяіїє].*(?<=о)сть?$'\n",
    "        self.RV = ''\n",
    "\n",
    "    def ukstemmer_search_preprocess(self, word):\n",
    "        word = word.lower()\n",
    "        word = word.replace(\"'\", \"\")\n",
    "        word = word.replace(\"ё\", \"е\")\n",
    "        word = word.replace(\"ъ\", \"ї\")\n",
    "        return word\n",
    "\n",
    "    def s(self, st, reg, to):\n",
    "        orig = st\n",
    "        self.RV = re.sub(reg, to, st)\n",
    "        return (orig != self.RV)\n",
    "\n",
    "    def stem_word(self):\n",
    "        word = self.ukstemmer_search_preprocess(self.word)\n",
    "        if not re.search('[аеиоуюяіїє]', word):\n",
    "            stem = word\n",
    "        else:\n",
    "            p = re.search(self.rvre, word)\n",
    "            start = word[0:p.span()[1]]\n",
    "            self.RV = word[p.span()[1]:]\n",
    "\n",
    "            # Step 1\n",
    "            if not self.s(self.RV, self.perfectiveground, ''):\n",
    "\n",
    "                self.s(self.RV, self.reflexive, '')\n",
    "                if self.s(self.RV, self.adjective, ''):\n",
    "                    self.s(self.RV, self.participle, '')\n",
    "                else:\n",
    "                    if not self.s(self.RV, self.verb, ''):\n",
    "                        self.s(self.RV, self.noun, '')\n",
    "            # Step 2\n",
    "            self.s(self.RV, 'и$', '')\n",
    "\n",
    "            # Step 3\n",
    "            if re.search(self.derivational, self.RV):\n",
    "                self.s(self.RV, 'ость$', '')\n",
    "\n",
    "            # Step 4\n",
    "            if self.s(self.RV, 'ь$', ''):\n",
    "                self.s(self.RV, 'ейше?$', '')\n",
    "                self.s(self.RV, 'нн$', u'н')\n",
    "\n",
    "            stem = start + self.RV\n",
    "        return stem"
   ]
  },
  {
   "cell_type": "code",
   "execution_count": 3,
   "metadata": {
    "colab": {
     "base_uri": "https://localhost:8080/"
    },
    "executionInfo": {
     "elapsed": 796,
     "status": "ok",
     "timestamp": 1671393655003,
     "user": {
      "displayName": "Eugene Tomashy",
      "userId": "13407694259505507430"
     },
     "user_tz": -120
    },
    "id": "BgurB2uMaFpH",
    "outputId": "f583a20b-45e7-48d9-96f0-3423358955b3"
   },
   "outputs": [
    {
     "name": "stdout",
     "output_type": "stream",
     "text": [
      "<class 'pandas.core.frame.DataFrame'>\n",
      "Int64Index: 2179 entries, 1147 to 5187\n",
      "Data columns (total 3 columns):\n",
      " #   Column         Non-Null Count  Dtype \n",
      "---  ------         --------------  ----- \n",
      " 0   parsed_text    2179 non-null   object\n",
      " 1   propaganda     2179 non-null   object\n",
      " 2   language_code  2179 non-null   object\n",
      "dtypes: object(3)\n",
      "memory usage: 68.1+ KB\n"
     ]
    }
   ],
   "source": [
    "df = pd.read_csv('../db.csv', index_col=['id'])\n",
    "df['parsed_text'] = df.parsed_text.str.lower()\n",
    "df.info()"
   ]
  },
  {
   "cell_type": "code",
   "execution_count": 4,
   "metadata": {
    "executionInfo": {
     "elapsed": 6,
     "status": "ok",
     "timestamp": 1671393655004,
     "user": {
      "displayName": "Eugene Tomashy",
      "userId": "13407694259505507430"
     },
     "user_tz": -120
    },
    "id": "Jcog4tVQbvsw"
   },
   "outputs": [],
   "source": [
    "df.iloc[[80, 266]] = None\n",
    "df.dropna(inplace=True)"
   ]
  },
  {
   "cell_type": "code",
   "execution_count": 5,
   "metadata": {
    "colab": {
     "base_uri": "https://localhost:8080/",
     "height": 455
    },
    "executionInfo": {
     "elapsed": 2934,
     "status": "ok",
     "timestamp": 1671393657934,
     "user": {
      "displayName": "Eugene Tomashy",
      "userId": "13407694259505507430"
     },
     "user_tz": -120
    },
    "id": "NS5z43D4bwIV",
    "outputId": "5768e6dd-ab4f-4cfc-baf6-03f154fa370c"
   },
   "outputs": [
    {
     "data": {
      "text/html": [
       "\n",
       "  <div id=\"df-4d655e12-7423-4f21-9a77-6c41cfa6468f\">\n",
       "    <div class=\"colab-df-container\">\n",
       "      <div>\n",
       "<style scoped>\n",
       "    .dataframe tbody tr th:only-of-type {\n",
       "        vertical-align: middle;\n",
       "    }\n",
       "\n",
       "    .dataframe tbody tr th {\n",
       "        vertical-align: top;\n",
       "    }\n",
       "\n",
       "    .dataframe thead th {\n",
       "        text-align: right;\n",
       "    }\n",
       "</style>\n",
       "<table border=\"1\" class=\"dataframe\">\n",
       "  <thead>\n",
       "    <tr style=\"text-align: right;\">\n",
       "      <th></th>\n",
       "      <th>parsed_text</th>\n",
       "      <th>propaganda</th>\n",
       "      <th>language_code</th>\n",
       "    </tr>\n",
       "    <tr>\n",
       "      <th>id</th>\n",
       "      <th></th>\n",
       "      <th></th>\n",
       "      <th></th>\n",
       "    </tr>\n",
       "  </thead>\n",
       "  <tbody>\n",
       "    <tr>\n",
       "      <th>1147</th>\n",
       "      <td>[​​китайська, жіночка-кішка, продовжує, намага...</td>\n",
       "      <td>f</td>\n",
       "      <td>ua</td>\n",
       "    </tr>\n",
       "    <tr>\n",
       "      <th>2</th>\n",
       "      <td>[1991, :, россия🇸🇰👍, —, давайте, не, будем, сс...</td>\n",
       "      <td>t</td>\n",
       "      <td>rus</td>\n",
       "    </tr>\n",
       "    <tr>\n",
       "      <th>4</th>\n",
       "      <td>[🚨мысли, вслух, каждого, росисянина🍾🇸🇮, сейчас...</td>\n",
       "      <td>t</td>\n",
       "      <td>rus</td>\n",
       "    </tr>\n",
       "    <tr>\n",
       "      <th>5</th>\n",
       "      <td>[комментарий, пескова, по, поводу, диалога, эс...</td>\n",
       "      <td>t</td>\n",
       "      <td>rus</td>\n",
       "    </tr>\n",
       "    <tr>\n",
       "      <th>6</th>\n",
       "      <td>[реакции, мы, решили, включить, ,, ставим, лай...</td>\n",
       "      <td>t</td>\n",
       "      <td>rus</td>\n",
       "    </tr>\n",
       "    <tr>\n",
       "      <th>...</th>\n",
       "      <td>...</td>\n",
       "      <td>...</td>\n",
       "      <td>...</td>\n",
       "    </tr>\n",
       "    <tr>\n",
       "      <th>5182</th>\n",
       "      <td>[#, #, аналiтика, поки, прості, українці, раді...</td>\n",
       "      <td>t</td>\n",
       "      <td>ua</td>\n",
       "    </tr>\n",
       "    <tr>\n",
       "      <th>5183</th>\n",
       "      <td>[#, #, чутки, опісля, того, ,, що, сталося, на...</td>\n",
       "      <td>t</td>\n",
       "      <td>ua</td>\n",
       "    </tr>\n",
       "    <tr>\n",
       "      <th>5185</th>\n",
       "      <td>[⚡️⚡️⚡️, #, #, інсайд, наше, джерело, доповіда...</td>\n",
       "      <td>t</td>\n",
       "      <td>ua</td>\n",
       "    </tr>\n",
       "    <tr>\n",
       "      <th>5186</th>\n",
       "      <td>[#, #, чутки, згідно, наших, джерел, в, оп, ,,...</td>\n",
       "      <td>t</td>\n",
       "      <td>ua</td>\n",
       "    </tr>\n",
       "    <tr>\n",
       "      <th>5187</th>\n",
       "      <td>[#, #, інсайд, наш, експерт, ківа, не, просто,...</td>\n",
       "      <td>t</td>\n",
       "      <td>ua</td>\n",
       "    </tr>\n",
       "  </tbody>\n",
       "</table>\n",
       "<p>2177 rows × 3 columns</p>\n",
       "</div>\n",
       "      <button class=\"colab-df-convert\" onclick=\"convertToInteractive('df-4d655e12-7423-4f21-9a77-6c41cfa6468f')\"\n",
       "              title=\"Convert this dataframe to an interactive table.\"\n",
       "              style=\"display:none;\">\n",
       "        \n",
       "  <svg xmlns=\"http://www.w3.org/2000/svg\" height=\"24px\"viewBox=\"0 0 24 24\"\n",
       "       width=\"24px\">\n",
       "    <path d=\"M0 0h24v24H0V0z\" fill=\"none\"/>\n",
       "    <path d=\"M18.56 5.44l.94 2.06.94-2.06 2.06-.94-2.06-.94-.94-2.06-.94 2.06-2.06.94zm-11 1L8.5 8.5l.94-2.06 2.06-.94-2.06-.94L8.5 2.5l-.94 2.06-2.06.94zm10 10l.94 2.06.94-2.06 2.06-.94-2.06-.94-.94-2.06-.94 2.06-2.06.94z\"/><path d=\"M17.41 7.96l-1.37-1.37c-.4-.4-.92-.59-1.43-.59-.52 0-1.04.2-1.43.59L10.3 9.45l-7.72 7.72c-.78.78-.78 2.05 0 2.83L4 21.41c.39.39.9.59 1.41.59.51 0 1.02-.2 1.41-.59l7.78-7.78 2.81-2.81c.8-.78.8-2.07 0-2.86zM5.41 20L4 18.59l7.72-7.72 1.47 1.35L5.41 20z\"/>\n",
       "  </svg>\n",
       "      </button>\n",
       "      \n",
       "  <style>\n",
       "    .colab-df-container {\n",
       "      display:flex;\n",
       "      flex-wrap:wrap;\n",
       "      gap: 12px;\n",
       "    }\n",
       "\n",
       "    .colab-df-convert {\n",
       "      background-color: #E8F0FE;\n",
       "      border: none;\n",
       "      border-radius: 50%;\n",
       "      cursor: pointer;\n",
       "      display: none;\n",
       "      fill: #1967D2;\n",
       "      height: 32px;\n",
       "      padding: 0 0 0 0;\n",
       "      width: 32px;\n",
       "    }\n",
       "\n",
       "    .colab-df-convert:hover {\n",
       "      background-color: #E2EBFA;\n",
       "      box-shadow: 0px 1px 2px rgba(60, 64, 67, 0.3), 0px 1px 3px 1px rgba(60, 64, 67, 0.15);\n",
       "      fill: #174EA6;\n",
       "    }\n",
       "\n",
       "    [theme=dark] .colab-df-convert {\n",
       "      background-color: #3B4455;\n",
       "      fill: #D2E3FC;\n",
       "    }\n",
       "\n",
       "    [theme=dark] .colab-df-convert:hover {\n",
       "      background-color: #434B5C;\n",
       "      box-shadow: 0px 1px 3px 1px rgba(0, 0, 0, 0.15);\n",
       "      filter: drop-shadow(0px 1px 2px rgba(0, 0, 0, 0.3));\n",
       "      fill: #FFFFFF;\n",
       "    }\n",
       "  </style>\n",
       "\n",
       "      <script>\n",
       "        const buttonEl =\n",
       "          document.querySelector('#df-4d655e12-7423-4f21-9a77-6c41cfa6468f button.colab-df-convert');\n",
       "        buttonEl.style.display =\n",
       "          google.colab.kernel.accessAllowed ? 'block' : 'none';\n",
       "\n",
       "        async function convertToInteractive(key) {\n",
       "          const element = document.querySelector('#df-4d655e12-7423-4f21-9a77-6c41cfa6468f');\n",
       "          const dataTable =\n",
       "            await google.colab.kernel.invokeFunction('convertToInteractive',\n",
       "                                                     [key], {});\n",
       "          if (!dataTable) return;\n",
       "\n",
       "          const docLinkHtml = 'Like what you see? Visit the ' +\n",
       "            '<a target=\"_blank\" href=https://colab.research.google.com/notebooks/data_table.ipynb>data table notebook</a>'\n",
       "            + ' to learn more about interactive tables.';\n",
       "          element.innerHTML = '';\n",
       "          dataTable['output_type'] = 'display_data';\n",
       "          await google.colab.output.renderOutput(dataTable, element);\n",
       "          const docLink = document.createElement('div');\n",
       "          docLink.innerHTML = docLinkHtml;\n",
       "          element.appendChild(docLink);\n",
       "        }\n",
       "      </script>\n",
       "    </div>\n",
       "  </div>\n",
       "  "
      ],
      "text/plain": [
       "                                            parsed_text propaganda  \\\n",
       "id                                                                   \n",
       "1147  [​​китайська, жіночка-кішка, продовжує, намага...          f   \n",
       "2     [1991, :, россия🇸🇰👍, —, давайте, не, будем, сс...          t   \n",
       "4     [🚨мысли, вслух, каждого, росисянина🍾🇸🇮, сейчас...          t   \n",
       "5     [комментарий, пескова, по, поводу, диалога, эс...          t   \n",
       "6     [реакции, мы, решили, включить, ,, ставим, лай...          t   \n",
       "...                                                 ...        ...   \n",
       "5182  [#, #, аналiтика, поки, прості, українці, раді...          t   \n",
       "5183  [#, #, чутки, опісля, того, ,, що, сталося, на...          t   \n",
       "5185  [⚡️⚡️⚡️, #, #, інсайд, наше, джерело, доповіда...          t   \n",
       "5186  [#, #, чутки, згідно, наших, джерел, в, оп, ,,...          t   \n",
       "5187  [#, #, інсайд, наш, експерт, ківа, не, просто,...          t   \n",
       "\n",
       "     language_code  \n",
       "id                  \n",
       "1147            ua  \n",
       "2              rus  \n",
       "4              rus  \n",
       "5              rus  \n",
       "6              rus  \n",
       "...            ...  \n",
       "5182            ua  \n",
       "5183            ua  \n",
       "5185            ua  \n",
       "5186            ua  \n",
       "5187            ua  \n",
       "\n",
       "[2177 rows x 3 columns]"
      ]
     },
     "execution_count": 5,
     "metadata": {},
     "output_type": "execute_result"
    }
   ],
   "source": [
    "temp = list(map(word_tokenize, df.parsed_text.values))\n",
    "df['parsed_text'] = temp\n",
    "df"
   ]
  },
  {
   "cell_type": "code",
   "execution_count": 6,
   "metadata": {
    "colab": {
     "base_uri": "https://localhost:8080/"
    },
    "executionInfo": {
     "elapsed": 10,
     "status": "ok",
     "timestamp": 1671393657934,
     "user": {
      "displayName": "Eugene Tomashy",
      "userId": "13407694259505507430"
     },
     "user_tz": -120
    },
    "id": "ykeNMhn0AY6L",
    "outputId": "765f0b5f-1877-45ca-d6c7-cd49e57ba211"
   },
   "outputs": [
    {
     "name": "stdout",
     "output_type": "stream",
     "text": [
      "<class 'pandas.core.frame.DataFrame'>\n",
      "Int64Index: 2177 entries, 1147 to 5187\n",
      "Data columns (total 3 columns):\n",
      " #   Column         Non-Null Count  Dtype \n",
      "---  ------         --------------  ----- \n",
      " 0   parsed_text    2177 non-null   object\n",
      " 1   propaganda     2177 non-null   object\n",
      " 2   language_code  2177 non-null   object\n",
      "dtypes: object(3)\n",
      "memory usage: 68.0+ KB\n"
     ]
    }
   ],
   "source": [
    "df.info()"
   ]
  },
  {
   "cell_type": "code",
   "execution_count": 7,
   "metadata": {
    "executionInfo": {
     "elapsed": 7,
     "status": "ok",
     "timestamp": 1671393657935,
     "user": {
      "displayName": "Eugene Tomashy",
      "userId": "13407694259505507430"
     },
     "user_tz": -120
    },
    "id": "KzVNjV20yRhh"
   },
   "outputs": [],
   "source": [
    "def stemming(parsed_text):\n",
    "  stem_parsed_text = []\n",
    "  for word in parsed_text:\n",
    "    ukrainian_stemmer = UkrainianStemmer(word)\n",
    "    stem_parsed_text.append(ukrainian_stemmer.stem_word())\n",
    "\n",
    "  return ' '.join(stem_parsed_text)"
   ]
  },
  {
   "cell_type": "code",
   "execution_count": 8,
   "metadata": {
    "colab": {
     "base_uri": "https://localhost:8080/"
    },
    "executionInfo": {
     "elapsed": 4325,
     "status": "ok",
     "timestamp": 1671393662254,
     "user": {
      "displayName": "Eugene Tomashy",
      "userId": "13407694259505507430"
     },
     "user_tz": -120
    },
    "id": "dcXNxSGkyR6q",
    "outputId": "4238f116-bb99-4001-94b2-7a2dead06bef"
   },
   "outputs": [
    {
     "name": "stdout",
     "output_type": "stream",
     "text": [
      "id\n",
      "1147    [​​китайська, жіночка-кішка, продовжує, намага...\n",
      "2       [1991, :, россия🇸🇰👍, —, давайте, не, будем, сс...\n",
      "4       [🚨мысли, вслух, каждого, росисянина🍾🇸🇮, сейчас...\n",
      "5       [комментарий, пескова, по, поводу, диалога, эс...\n",
      "6       [реакции, мы, решили, включить, ,, ставим, лай...\n",
      "                              ...                        \n",
      "5182    [#, #, аналiтика, поки, прості, українці, раді...\n",
      "5183    [#, #, чутки, опісля, того, ,, що, сталося, на...\n",
      "5185    [⚡️⚡️⚡️, #, #, інсайд, наше, джерело, доповіда...\n",
      "5186    [#, #, чутки, згідно, наших, джерел, в, оп, ,,...\n",
      "5187    [#, #, інсайд, наш, експерт, ківа, не, просто,...\n",
      "Name: parsed_text, Length: 2177, dtype: object\n",
      "id\n",
      "1147    ​​китайськ жіночка-кішк продовж намаг в пропаг...\n",
      "2       1991 : россия🇸🇰👍 — давайт не буд ссорит , мы в...\n",
      "4       🚨мысли вслух кажд росисянина🍾🇸🇮 сейчас слов ад...\n",
      "5       комментар песк по повод диалог эстон и зелен :...\n",
      "6       реакц мы решил включит , став лайк за сильн ро...\n",
      "                              ...                        \n",
      "5182    # # аналiтик пок прост українц радіют просуван...\n",
      "5183    # # чутк опісл тог , що стал на євробаченн зов...\n",
      "5185    ⚡️⚡️⚡️ # # інсайд наш джерел доповід , що стал...\n",
      "5186    # # чутк згідн наш джерел в оп , сьогодн мож б...\n",
      "5187    # # інсайд наш експерт ків не прост так говори...\n",
      "Name: parsed_text, Length: 2177, dtype: object\n"
     ]
    }
   ],
   "source": [
    "print(df.parsed_text)\n",
    "df['parsed_text'] = df['parsed_text'].apply(lambda x: stemming(x))\n",
    "print(df.parsed_text)"
   ]
  },
  {
   "cell_type": "code",
   "execution_count": 9,
   "metadata": {
    "executionInfo": {
     "elapsed": 8,
     "status": "ok",
     "timestamp": 1671393662255,
     "user": {
      "displayName": "Eugene Tomashy",
      "userId": "13407694259505507430"
     },
     "user_tz": -120
    },
    "id": "B3DHdXzLyWFI"
   },
   "outputs": [],
   "source": [
    "my_vectorizer = CountVectorizer()\n",
    "# print(df['parsed_text'])\n",
    "# my_vectorizer.fit(df['parsed_text'])"
   ]
  },
  {
   "cell_type": "code",
   "execution_count": 10,
   "metadata": {
    "colab": {
     "base_uri": "https://localhost:8080/"
    },
    "executionInfo": {
     "elapsed": 699,
     "status": "ok",
     "timestamp": 1671393662947,
     "user": {
      "displayName": "Eugene Tomashy",
      "userId": "13407694259505507430"
     },
     "user_tz": -120
    },
    "id": "IHL-UHOFy17d",
    "outputId": "dd8463ea-093b-4a88-a75d-997ac689f7ac"
   },
   "outputs": [
    {
     "name": "stdout",
     "output_type": "stream",
     "text": [
      "count    2177.000000\n",
      "mean        0.369775\n",
      "std         0.482855\n",
      "min         0.000000\n",
      "25%         0.000000\n",
      "50%         0.000000\n",
      "75%         1.000000\n",
      "max         1.000000\n",
      "Name: propaganda, dtype: float64\n",
      "(1523, 1) (1523,)\n"
     ]
    }
   ],
   "source": [
    "df['parsed_text'] = my_vectorizer.fit_transform(df['parsed_text']).toarray()\n",
    "x, y = df['parsed_text'].values.reshape(-1, 1), df['propaganda'].apply(lambda y: 0 if y=='f' else 1).values.astype(int)\n",
    "print(df['propaganda'].apply(lambda y: 0 if y=='f' else 1).describe())\n",
    "x_train, x_test, y_train, y_test = train_test_split(x, y, test_size=0.3)\n",
    "print(x_train.shape, y_train.shape)"
   ]
  },
  {
   "cell_type": "code",
   "execution_count": 11,
   "metadata": {
    "executionInfo": {
     "elapsed": 9,
     "status": "ok",
     "timestamp": 1671393663220,
     "user": {
      "displayName": "Eugene Tomashy",
      "userId": "13407694259505507430"
     },
     "user_tz": -120
    },
    "id": "cd_ZkjPC9R_s"
   },
   "outputs": [],
   "source": [
    "# df['new_col'] = df['parsed_text'].apply(lambda x: x.shape[1])\n",
    "# print(df['new_col'].describe())"
   ]
  },
  {
   "cell_type": "code",
   "execution_count": 12,
   "metadata": {
    "colab": {
     "base_uri": "https://localhost:8080/"
    },
    "executionInfo": {
     "elapsed": 7,
     "status": "ok",
     "timestamp": 1671393663220,
     "user": {
      "displayName": "Eugene Tomashy",
      "userId": "13407694259505507430"
     },
     "user_tz": -120
    },
    "id": "RUr5DE-60lRW",
    "outputId": "e90b6332-68b8-415e-f458-83289e3460f9"
   },
   "outputs": [
    {
     "data": {
      "text/plain": [
       "(array([[0],\n",
       "        [0],\n",
       "        [0],\n",
       "        ...,\n",
       "        [0],\n",
       "        [0],\n",
       "        [0]]), array([0, 1, 1, ..., 1, 1, 1]))"
      ]
     },
     "execution_count": 12,
     "metadata": {},
     "output_type": "execute_result"
    }
   ],
   "source": [
    "model = LogisticRegression()\n",
    "model.fit(x_train, y_train)\n",
    "x, y"
   ]
  },
  {
   "cell_type": "code",
   "execution_count": 13,
   "metadata": {
    "colab": {
     "base_uri": "https://localhost:8080/"
    },
    "executionInfo": {
     "elapsed": 7,
     "status": "ok",
     "timestamp": 1671393663221,
     "user": {
      "displayName": "Eugene Tomashy",
      "userId": "13407694259505507430"
     },
     "user_tz": -120
    },
    "id": "vUbnHpG-0rE0",
    "outputId": "7f801a5d-83ab-4d22-f1ac-c317e98531aa"
   },
   "outputs": [
    {
     "data": {
      "text/plain": [
       "0.6422018348623854"
      ]
     },
     "execution_count": 13,
     "metadata": {},
     "output_type": "execute_result"
    }
   ],
   "source": [
    "model.score(x_test, y_test)"
   ]
  }
 ],
 "metadata": {
  "colab": {
   "authorship_tag": "ABX9TyO3bZOnXgp3hxVhWn+TzF2w",
   "mount_file_id": "1Lt1XIDxaY8hxWzwMAXPQyqjOEDgTqS6J",
   "provenance": []
  },
  "kernelspec": {
   "display_name": "Python 3 (ipykernel)",
   "language": "python",
   "name": "python3"
  },
  "language_info": {
   "codemirror_mode": {
    "name": "ipython",
    "version": 3
   },
   "file_extension": ".py",
   "mimetype": "text/x-python",
   "name": "python",
   "nbconvert_exporter": "python",
   "pygments_lexer": "ipython3",
   "version": "3.9.5"
  }
 },
 "nbformat": 4,
 "nbformat_minor": 1
}
